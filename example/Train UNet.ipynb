{
 "cells": [
  {
   "cell_type": "code",
   "execution_count": 1,
   "id": "1d72c659-2060-453c-98a3-1193d79d25dc",
   "metadata": {},
   "outputs": [],
   "source": [
    "from torch.utils.data import DataLoader\n",
    "\n",
    "from faim_dl.data_record import DefaultDataRecord\n",
    "from faim_dl.dataset import ZarrDataset\n",
    "\n",
    "import gunpowder as gp\n",
    "\n",
    "from matplotlib import pyplot as plt\n",
    "from matplotlib.colors import ListedColormap\n",
    "\n",
    "import math\n",
    "import numpy as np"
   ]
  },
  {
   "cell_type": "code",
   "execution_count": 2,
   "id": "84ce6400-fe00-4b94-a2bd-2508c35a30ab",
   "metadata": {},
   "outputs": [],
   "source": [
    "from faim_dl.segmentation.unet_three_class.UNet3Class import UNet"
   ]
  },
  {
   "cell_type": "code",
   "execution_count": 3,
   "id": "8130ebfb-04ff-4966-91ed-ce73c1702304",
   "metadata": {},
   "outputs": [],
   "source": [
    "datarecord = DefaultDataRecord.deserialize('./dataset/BBBC039.zarr/BBBC039_rdf.json')"
   ]
  },
  {
   "cell_type": "code",
   "execution_count": 4,
   "id": "32fade97-a7b7-4e5f-9973-681285a6edd1",
   "metadata": {},
   "outputs": [
    {
     "data": {
      "text/plain": [
       "{'train_data': {'data': './train_data', 'histogram': './train_data_hist.npz'},\n",
       " 'val_data': {'data': './val_data', 'histogram': './val_data_hist.npz'},\n",
       " 'test_data': {'data': './test_data', 'histogram': './test_data_hist.npz'}}"
      ]
     },
     "execution_count": 4,
     "metadata": {},
     "output_type": "execute_result"
    }
   ],
   "source": [
    "datarecord.attachments"
   ]
  },
  {
   "cell_type": "code",
   "execution_count": 5,
   "id": "e4701263-0607-43f3-8792-b380046d8ffe",
   "metadata": {},
   "outputs": [],
   "source": [
    "def add_unknown(data, ratio=0.5):\n",
    "    mask = np.random.uniform(size=data.shape) < ratio\n",
    "    data_ = data.copy()\n",
    "    data_[mask] = -1\n",
    "    return data_"
   ]
  },
  {
   "cell_type": "code",
   "execution_count": 6,
   "id": "89bada3e-098c-493a-8c44-c6414ef867f7",
   "metadata": {},
   "outputs": [],
   "source": [
    "from skimage.segmentation import find_boundaries\n",
    "import numpy as np\n",
    "\n",
    "def convert_to_onehot(data):\n",
    "    boundaries = find_boundaries(np.maximum(0, data[0]), mode='outer')\n",
    "    three_classes = (data[0] > 0).astype(np.int16)\n",
    "    three_classes[boundaries] = 2\n",
    "\n",
    "    one_hot = np.zeros_like(three_classes, shape=(4,) + three_classes.shape)\n",
    "    one_hot[0, three_classes == 0] = 1\n",
    "    one_hot[1, three_classes == 1] = 1\n",
    "    one_hot[2, three_classes == 2] = 1\n",
    "    one_hot[3, data[0] != -1] = 1\n",
    "    return one_hot"
   ]
  },
  {
   "cell_type": "code",
   "execution_count": 7,
   "id": "7c0aa70c-814b-4dac-8ab3-ddb6e3cc0f81",
   "metadata": {},
   "outputs": [],
   "source": [
    "test = lambda data: convert_to_onehot(add_unknown(data))"
   ]
  },
  {
   "cell_type": "code",
   "execution_count": 8,
   "id": "fca0769d-805b-45d5-8973-461e0ee793b7",
   "metadata": {},
   "outputs": [],
   "source": [
    "train_hist = datarecord.histograms['train_data']\n",
    "train_ds = ZarrDataset('./dataset/BBBC039.zarr', \n",
    "                 dataset_name='train_data', \n",
    "                 target_name='nuclei',\n",
    "                 random_location=True,\n",
    "                 simple_augment=True,\n",
    "                 elastic_augment={\"control_point_spacing\": (16, 16),\n",
    "                                  \"jitter_sigma\": (1.5, 1.5),\n",
    "                                  \"rotation_interval\": (0, math.pi / 2),\n",
    "                                  \"scale_interval\": (0.9, 1.1)},\n",
    "                 intensity_augment={\"scale_min\": 0.9,\n",
    "                                    \"scale_max\": 1.1,\n",
    "                                    \"shift_min\": -0.1,\n",
    "                                    \"shift_max\": 0.1},\n",
    "                 noise_augment={\"mean\": 0, \"min_var\": 0.05, \"max_var\": 0.001},\n",
    "                 shape=(128,128),\n",
    "                 normalization_mi_ma=(train_hist.quantile(0.03), train_hist.quantile(0.998)),\n",
    "                      target_transformation=convert_to_onehot, \n",
    "                      oversample=10)\n",
    "\n",
    "val_hist = datarecord.histograms['val_data']\n",
    "val_ds = ZarrDataset('./dataset/BBBC039.zarr', \n",
    "                 dataset_name='val_data', \n",
    "                 target_name='nuclei',\n",
    "                 random_location=True,\n",
    "                 simple_augment=True,\n",
    "                 elastic_augment={\"control_point_spacing\": (16, 16),\n",
    "                                  \"jitter_sigma\": (1.5, 1.5),\n",
    "                                  \"rotation_interval\": (0, math.pi / 2),\n",
    "                                  \"scale_interval\": (0.9, 1.1)},\n",
    "                 intensity_augment={\"scale_min\": 0.9,\n",
    "                                    \"scale_max\": 1.1,\n",
    "                                    \"shift_min\": -0.1,\n",
    "                                    \"shift_max\": 0.1},\n",
    "                 noise_augment={\"mean\": 0, \"min_var\": 0.05, \"max_var\": 0.001},\n",
    "                 shape=(128,128),\n",
    "                 normalization_mi_ma=(val_hist.quantile(0.03), val_hist.quantile(0.998)),\n",
    "                      target_transformation=convert_to_onehot)"
   ]
  },
  {
   "cell_type": "code",
   "execution_count": 9,
   "id": "24d239d2-f28b-4f97-8f18-b4b07d860417",
   "metadata": {},
   "outputs": [],
   "source": [
    "train_dl = DataLoader(train_ds, batch_size=20, num_workers=12, pin_memory=True, persistent_workers=True)\n",
    "val_dl = DataLoader(val_ds, batch_size=20, num_workers=12, pin_memory=True, persistent_workers=True)"
   ]
  },
  {
   "cell_type": "code",
   "execution_count": 10,
   "id": "e227e9e4-284e-42bf-ad3f-75755c34e4d5",
   "metadata": {},
   "outputs": [],
   "source": [
    "model = UNet(in_channels=1, out_channels=3, depth=2)"
   ]
  },
  {
   "cell_type": "code",
   "execution_count": 11,
   "id": "0ef8e141-62b9-4a81-9610-ba57787634ca",
   "metadata": {},
   "outputs": [],
   "source": [
    "from composer import Trainer\n",
    "from composer.algorithms import BlurPool, LabelSmoothing, SAM, SelectiveBackprop\n",
    "from composer.optim.scheduler import CosineAnnealingWithWarmupScheduler\n",
    "from composer.loggers import WandBLogger\n",
    "from composer.callbacks import LRMonitor"
   ]
  },
  {
   "cell_type": "code",
   "execution_count": 12,
   "id": "6d663e99-dd4d-4410-8b59-ec06115ad26b",
   "metadata": {},
   "outputs": [],
   "source": [
    "import torch"
   ]
  },
  {
   "cell_type": "code",
   "execution_count": 13,
   "id": "b39e8924-2ab6-4c7f-bfc1-ff5fa18c5e1e",
   "metadata": {},
   "outputs": [],
   "source": [
    "from faim_dl.segmentation.unet_three_class import SaveBestCheckpoint"
   ]
  },
  {
   "cell_type": "code",
   "execution_count": 14,
   "id": "631414aa-b032-4d9d-a8bf-0078bd40946f",
   "metadata": {},
   "outputs": [],
   "source": [
    "from composer import Callback, State, Logger"
   ]
  },
  {
   "cell_type": "code",
   "execution_count": 15,
   "id": "deee692f-793a-4e8b-981d-63f9d6ddb820",
   "metadata": {},
   "outputs": [],
   "source": [
    "import wandb"
   ]
  },
  {
   "cell_type": "code",
   "execution_count": 16,
   "id": "cc1e380f-75a6-4f1b-8881-53c041330b8d",
   "metadata": {},
   "outputs": [],
   "source": [
    "class ImageLogger(WandBLogger):\n",
    "    \n",
    "    def eval_after_forward(self, state: State, logger: Logger):\n",
    "        if state.timer.get_timestamp().batch_in_epoch.value == 0:\n",
    "            img = state.batch[0][:3,0].detach().cpu().numpy()\n",
    "            target = state.batch[1][:3,1].detach().cpu().numpy()\n",
    "            pred = torch.softmax(state.outputs[:3].detach(), dim=1)[:, 1].cpu().numpy()\n",
    "            \n",
    "            img = (img - img.min())*255/(img.max() - img.min())\n",
    "            target = (target - target.min())*255/(target.max() - target.min())\n",
    "            pred = (pred - pred.min())*255/(pred.max() - pred.min())\n",
    "            \n",
    "            raw = [wandb.Image(i, mode='L') for i in img]\n",
    "            target = [wandb.Image(t, mode='L') for t in target]\n",
    "            pred = [wandb.Image(p, mode='L') for p in pred]\n",
    "            wandb.log({\"Input\": raw, \"Target\": target, \"Prediction\": pred}, step=int(state.timer.get_timestamp().batch))"
   ]
  },
  {
   "cell_type": "code",
   "execution_count": 17,
   "id": "7bea9e54-0732-42b9-970d-8c2d77352667",
   "metadata": {
    "tags": []
   },
   "outputs": [
    {
     "name": "stderr",
     "output_type": "stream",
     "text": [
      "Failed to detect the name of this notebook, you can set it manually with the WANDB_NOTEBOOK_NAME environment variable to enable code saving.\n",
      "\u001b[34m\u001b[1mwandb\u001b[0m: Currently logged in as: \u001b[33mtibuch\u001b[0m (use `wandb login --relogin` to force relogin)\n"
     ]
    },
    {
     "data": {
      "text/html": [
       "Tracking run with wandb version 0.12.11"
      ],
      "text/plain": [
       "<IPython.core.display.HTML object>"
      ]
     },
     "metadata": {},
     "output_type": "display_data"
    },
    {
     "data": {
      "text/html": [
       "Run data is saved locally in <code>/home/tibuch/Gitrepos/faim-dl/example/wandb/run-20220325_180358-254enm8a</code>"
      ],
      "text/plain": [
       "<IPython.core.display.HTML object>"
      ]
     },
     "metadata": {},
     "output_type": "display_data"
    },
    {
     "data": {
      "text/html": [
       "Syncing run <strong><a href=\"https://wandb.fmi.ch/tibuch/faim-dl/runs/254enm8a\" target=\"_blank\">dazzling-cosmos-81</a></strong> to <a href=\"https://wandb.fmi.ch/tibuch/faim-dl\" target=\"_blank\">Weights & Biases</a> (<a href=\"https://wandb.me/run\" target=\"_blank\">docs</a>)<br/>"
      ],
      "text/plain": [
       "<IPython.core.display.HTML object>"
      ]
     },
     "metadata": {},
     "output_type": "display_data"
    },
    {
     "name": "stdout",
     "output_type": "stream",
     "text": [
      "\n"
     ]
    },
    {
     "data": {
      "text/html": [
       "Waiting for W&B process to finish... <strong style=\"color:green\">(success).</strong>"
      ],
      "text/plain": [
       "<IPython.core.display.HTML object>"
      ]
     },
     "metadata": {},
     "output_type": "display_data"
    },
    {
     "data": {
      "application/vnd.jupyter.widget-view+json": {
       "model_id": "",
       "version_major": 2,
       "version_minor": 0
      },
      "text/plain": [
       "VBox(children=(Label(value='4.266 MB of 4.266 MB uploaded (0.000 MB deduped)\\r'), FloatProgress(value=1.0, max…"
      ]
     },
     "metadata": {},
     "output_type": "display_data"
    },
    {
     "data": {
      "text/html": [
       "<style>\n",
       "    table.wandb td:nth-child(1) { padding: 0 10px; text-align: right }\n",
       "    .wandb-row { display: flex; flex-direction: row; flex-wrap: wrap; width: 100% }\n",
       "    .wandb-col { display: flex; flex-direction: column; flex-basis: 100%; flex: 1; padding: 10px; }\n",
       "    </style>\n",
       "<div class=\"wandb-row\"><div class=\"wandb-col\"><h3>Run history:</h3><br/><table class=\"wandb\"><tr><td><composer.algorithms.blurpool.blurpool.BlurPool object at 0x7fe6f4b9e520>/Event.INIT</td><td>▁</td></tr><tr><td>blurpool/num_blurconv_layers</td><td>▁</td></tr><tr><td>blurpool/num_blurpool_layers</td><td>▁</td></tr><tr><td>dice/val</td><td>▁▆▇▆▇▇▇▆▇▆▇████▇▇███</td></tr><tr><td>epoch</td><td>▁▁▂▂▂▃▃▃▄▄▅▅▅▆▆▆▇▇▇██</td></tr><tr><td>loss/train</td><td>█▅▃▂▂▂▂▂▂▁▁▁▁▁▁▁▁▁▁▁▁▁▁▁▁▁▁▁▁▁▁▁▁▁▁▁▁▁▁▁</td></tr><tr><td>trainer/batch_idx</td><td>▂▆▁▅▁▅▂▆▂▆▁▅▂▆▂▆▂▇▃▇▂▆▂▇▃▇▃▇▄█▃▇▃▇▄█▄█▃▇</td></tr><tr><td>trainer/global_step</td><td>▁▁▁▂▂▂▂▂▂▃▃▃▃▃▄▄▄▄▄▄▅▅▅▅▅▅▆▆▆▆▆▇▇▇▇▇▇███</td></tr></table><br/></div><div class=\"wandb-col\"><h3>Run summary:</h3><br/><table class=\"wandb\"><tr><td><composer.algorithms.blurpool.blurpool.BlurPool object at 0x7fe6f4b9e520>/Event.INIT</td><td>1</td></tr><tr><td>blurpool/num_blurconv_layers</td><td>4</td></tr><tr><td>blurpool/num_blurpool_layers</td><td>0</td></tr><tr><td>dice/val</td><td>75.76</td></tr><tr><td>epoch</td><td>20</td></tr><tr><td>loss/train</td><td>0.43253</td></tr><tr><td>trainer/batch_idx</td><td>49</td></tr><tr><td>trainer/global_step</td><td>1000</td></tr></table><br/></div></div>"
      ],
      "text/plain": [
       "<IPython.core.display.HTML object>"
      ]
     },
     "metadata": {},
     "output_type": "display_data"
    },
    {
     "data": {
      "text/html": [
       "Synced <strong style=\"color:#cdcd00\">dazzling-cosmos-81</strong>: <a href=\"https://wandb.fmi.ch/tibuch/faim-dl/runs/254enm8a\" target=\"_blank\">https://wandb.fmi.ch/tibuch/faim-dl/runs/254enm8a</a><br/>Synced 6 W&B file(s), 180 media file(s), 0 artifact file(s) and 1 other file(s)"
      ],
      "text/plain": [
       "<IPython.core.display.HTML object>"
      ]
     },
     "metadata": {},
     "output_type": "display_data"
    },
    {
     "data": {
      "text/html": [
       "Find logs at: <code>./wandb/run-20220325_180358-254enm8a/logs</code>"
      ],
      "text/plain": [
       "<IPython.core.display.HTML object>"
      ]
     },
     "metadata": {},
     "output_type": "display_data"
    },
    {
     "data": {
      "text/html": [
       "Upgrade to the 0.9.49 version of W&B Local to get the latest features. Learn more: <a href=\"https://wandb.me/local-upgrade\" target=\"_blank\">https://wandb.me/local-upgrade</a>"
      ],
      "text/plain": [
       "<IPython.core.display.HTML object>"
      ]
     },
     "metadata": {},
     "output_type": "display_data"
    }
   ],
   "source": [
    "trainer = Trainer(model=model,\n",
    "                  train_dataloader=train_dl,\n",
    "                  eval_dataloader=val_dl,\n",
    "                  optimizers=torch.optim.Adam(model.parameters(), lr=0.0004),\n",
    "                  schedulers=CosineAnnealingWithWarmupScheduler(t_warmup='0.05dur'),\n",
    "                  max_duration=20,\n",
    "                 device='gpu',\n",
    "                 algorithms=[BlurPool(replace_convs=True,\n",
    "                        replace_maxpools=True)],\n",
    "                 loggers=[ImageLogger(init_params={\"project\":\"faim-dl\", \"entity\":\"tibuch\"})])\n",
    "\n",
    "trainer.fit()"
   ]
  },
  {
   "cell_type": "code",
   "execution_count": 21,
   "id": "14523b01-db80-4e0c-a9c1-114c3308331f",
   "metadata": {},
   "outputs": [
    {
     "data": {
      "text/plain": [
       "_IncompatibleKeys(missing_keys=['train_loss.cross_entropy.weight'], unexpected_keys=[])"
      ]
     },
     "execution_count": 21,
     "metadata": {},
     "output_type": "execute_result"
    }
   ],
   "source": [
    "model.load_state_dict(torch.load('./models/best_model')[\"state\"][\"model\"], strict=False)"
   ]
  },
  {
   "cell_type": "code",
   "execution_count": 22,
   "id": "0483acae-6531-4911-9b04-6b4dd0b1310e",
   "metadata": {},
   "outputs": [],
   "source": [
    "from skimage.io import imread"
   ]
  },
  {
   "cell_type": "code",
   "execution_count": 23,
   "id": "f9ec679b-cc13-48de-8224-14ce3b02da1d",
   "metadata": {},
   "outputs": [],
   "source": [
    "img = imread('/home/tibuch/Data/broad/nuclei_U2OS/images/IXMtest_B02_s9_w124B5080D-EBE1-47D2-B147-C0F342039EDF.tif')"
   ]
  },
  {
   "cell_type": "code",
   "execution_count": 24,
   "id": "336bc007-b18a-4a5c-90a1-537bf342a09b",
   "metadata": {},
   "outputs": [],
   "source": [
    "mi, ma = np.quantile(img, [0.03, 0.998])"
   ]
  },
  {
   "cell_type": "code",
   "execution_count": 25,
   "id": "44ea1d49-d6aa-4d29-aae7-732cbe98eaeb",
   "metadata": {},
   "outputs": [],
   "source": [
    "img = (img - mi)/(ma- mi)"
   ]
  },
  {
   "cell_type": "code",
   "execution_count": 26,
   "id": "936a5c63-cdc4-40f3-916e-1ce28cc516c2",
   "metadata": {},
   "outputs": [],
   "source": [
    "with torch.no_grad():\n",
    "    model = model.eval()\n",
    "    pred = model.module(torch.from_numpy(img[np.newaxis, np.newaxis].astype(np.float32)).cuda()).detach().cpu()"
   ]
  },
  {
   "cell_type": "code",
   "execution_count": 27,
   "id": "079ac849-5d4d-4a84-b055-39c415def23a",
   "metadata": {},
   "outputs": [
    {
     "data": {
      "text/plain": [
       "<matplotlib.image.AxesImage at 0x7fe6ecaa5520>"
      ]
     },
     "execution_count": 27,
     "metadata": {},
     "output_type": "execute_result"
    },
    {
     "data": {
      "image/png": "[encoded data removed]",
      "text/plain": [
       "<Figure size 720x720 with 1 Axes>"
      ]
     },
     "metadata": {
      "needs_background": "light"
     },
     "output_type": "display_data"
    }
   ],
   "source": [
    "plt.figure(figsize=(10,10))\n",
    "plt.imshow(np.argmax(pred[0], 0), interpolation='nearest')"
   ]
  },
  {
   "cell_type": "code",
   "execution_count": null,
   "id": "78c06981-c14e-4c99-aa90-03a9363fa864",
   "metadata": {},
   "outputs": [],
   "source": []
  }
 ],
 "metadata": {
  "kernelspec": {
   "display_name": "Python 3 (ipykernel)",
   "language": "python",
   "name": "python3"
  },
  "language_info": {
   "codemirror_mode": {
    "name": "ipython",
    "version": 3
   },
   "file_extension": ".py",
   "mimetype": "text/x-python",
   "name": "python",
   "nbconvert_exporter": "python",
   "pygments_lexer": "ipython3",
   "version": "3.9.7"
  }
 },
 "nbformat": 4,
 "nbformat_minor": 5
}
