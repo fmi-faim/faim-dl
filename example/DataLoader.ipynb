{
 "cells": [
  {
   "cell_type": "code",
   "execution_count": 1,
   "id": "bb0e81fb-ccba-40b2-ad32-e2962640d5e1",
   "metadata": {},
   "outputs": [],
   "source": [
    "from torch.utils.data import DataLoader, Dataset\n",
    "\n",
    "import zarr\n",
    "\n",
    "import gunpowder as gp"
   ]
  },
  {
   "cell_type": "code",
   "execution_count": 28,
   "id": "620dccd0-167c-4187-abd6-85bcde58c43b",
   "metadata": {},
   "outputs": [],
   "source": [
    "train_data = zarr.open('./dataset/BBBC039.zarr/train_data/', 'r')"
   ]
  },
  {
   "cell_type": "code",
   "execution_count": 29,
   "id": "c4105a3b-f73e-4249-9048-55de2bd702a1",
   "metadata": {},
   "outputs": [
    {
     "data": {
      "text/plain": [
       "100"
      ]
     },
     "execution_count": 29,
     "metadata": {},
     "output_type": "execute_result"
    }
   ],
   "source": [
    "len(train_data)"
   ]
  },
  {
   "cell_type": "code",
   "execution_count": 103,
   "id": "b8fd6bf1-94b9-4ed6-b071-bd3b8e6ca8ca",
   "metadata": {},
   "outputs": [],
   "source": [
    "\n",
    "raw = gp.ArrayKey('RAW')\n",
    "source = gp.ZarrSource(\n",
    "    './dataset/BBBC039.zarr/train_data/',\n",
    "    {raw: '{}/0'.format(0)},\n",
    "    {raw: gp.ArraySpec(interpolatable=True, voxel_size=(1, 1))}\n",
    ")\n",
    "\n",
    "    \n",
    "pipeline = source + gp.RandomLocation()"
   ]
  },
  {
   "cell_type": "code",
   "execution_count": 104,
   "id": "224686de-2a44-4299-9d7d-e047b2cb7d61",
   "metadata": {},
   "outputs": [],
   "source": [
    "request = gp.BatchRequest()"
   ]
  },
  {
   "cell_type": "code",
   "execution_count": 105,
   "id": "abcc9141-a25d-4ba5-8c22-dd5af9869ea6",
   "metadata": {},
   "outputs": [],
   "source": [
    "request[raw] = gp.Roi((0,0), (64, 64))"
   ]
  },
  {
   "cell_type": "code",
   "execution_count": 110,
   "id": "3554afe4-30ff-4440-9df4-73d549e5ca43",
   "metadata": {},
   "outputs": [],
   "source": [
    "with gp.build(pipeline):\n",
    "    batch = pipeline.request_batch(request)"
   ]
  },
  {
   "cell_type": "code",
   "execution_count": 111,
   "id": "0c1a5295-1f3b-4a50-bdf1-aab6913c7e47",
   "metadata": {},
   "outputs": [
    {
     "data": {
      "text/plain": [
       "RAW"
      ]
     },
     "execution_count": 111,
     "metadata": {},
     "output_type": "execute_result"
    }
   ],
   "source": [
    "raw"
   ]
  },
  {
   "cell_type": "code",
   "execution_count": 112,
   "id": "a8b85fd5-8294-491b-8570-968fca74734a",
   "metadata": {},
   "outputs": [],
   "source": [
    "from matplotlib import pyplot as plt"
   ]
  },
  {
   "cell_type": "code",
   "execution_count": 113,
   "id": "5d6065b6-615a-472e-a757-6ebad3f7b0e8",
   "metadata": {},
   "outputs": [
    {
     "data": {
      "text/plain": [
       "<matplotlib.image.AxesImage at 0x7fbeedaf0610>"
      ]
     },
     "execution_count": 113,
     "metadata": {},
     "output_type": "execute_result"
    },
    {
     "data": {
      "image/png": "[encoded data removed]",
      "text/plain": [
       "<Figure size 432x288 with 1 Axes>"
      ]
     },
     "metadata": {
      "needs_background": "light"
     },
     "output_type": "display_data"
    }
   ],
   "source": [
    "plt.imshow(batch[raw].data)"
   ]
  },
  {
   "cell_type": "code",
   "execution_count": 54,
   "id": "95292a5e-2e5f-4bab-af3e-79da56b8cf83",
   "metadata": {},
   "outputs": [
    {
     "data": {
      "text/plain": [
       "\n",
       "\tRAW_99: ROI: [0:64, 0:64] (64, 64), voxel size: (1, 1), interpolatable: True, non-spatial: False, dtype: uint16, placeholder: False"
      ]
     },
     "execution_count": 54,
     "metadata": {},
     "output_type": "execute_result"
    }
   ],
   "source": [
    "batch"
   ]
  },
  {
   "cell_type": "code",
   "execution_count": null,
   "id": "8242e62f-198f-4711-93b1-03121b6e797d",
   "metadata": {},
   "outputs": [],
   "source": []
  },
  {
   "cell_type": "code",
   "execution_count": 4,
   "id": "cc82af23-1895-4618-a974-d22d398f3d9e",
   "metadata": {},
   "outputs": [],
   "source": [
    "train_data = zarr.open('./dataset/BBBC039.zarr', 'r')['train_data']"
   ]
  },
  {
   "cell_type": "code",
   "execution_count": 6,
   "id": "23260ca3-5685-4162-8360-8a3f5494bdaf",
   "metadata": {},
   "outputs": [
    {
     "data": {
      "text/plain": [
       "100"
      ]
     },
     "execution_count": 6,
     "metadata": {},
     "output_type": "execute_result"
    }
   ],
   "source": [
    "len(train_data)"
   ]
  },
  {
   "cell_type": "code",
   "execution_count": 23,
   "id": "477d4c23-9cff-42dd-aec8-4d4e827de88c",
   "metadata": {},
   "outputs": [
    {
     "data": {
      "text/plain": [
       "{'axes': ['y', 'x'],\n",
       " 'data_spacing': [1, 1],\n",
       " 'shape': [520, 696],\n",
       " 'source_file': '/home/tibuch/Data/broad/nuclei_U2OS/images/IXMtest_A06_s6_w1B9577918-4973-4A87-BA73-A168AA755527.tif',\n",
       " 'target_file': '/home/tibuch/Data/broad/nuclei_U2OS/masks/IXMtest_A06_s6_w1B9577918-4973-4A87-BA73-A168AA755527.tif'}"
      ]
     },
     "execution_count": 23,
     "metadata": {},
     "output_type": "execute_result"
    }
   ],
   "source": [
    "train_data.get(0).attrs['dataspecs']"
   ]
  },
  {
   "cell_type": "code",
   "execution_count": 24,
   "id": "0146ecf9-bb79-4ad7-9ba1-6f259becf6e9",
   "metadata": {},
   "outputs": [],
   "source": [
    "item = train_data.get(0)"
   ]
  },
  {
   "cell_type": "code",
   "execution_count": 29,
   "id": "234c5230-7f92-496f-8bc9-4fb965fe6ef8",
   "metadata": {},
   "outputs": [
    {
     "data": {
      "text/plain": [
       "<zarr.core.Array '/train_data/0/0' (520, 696) uint16 read-only>"
      ]
     },
     "execution_count": 29,
     "metadata": {},
     "output_type": "execute_result"
    }
   ],
   "source": [
    "item[0]"
   ]
  },
  {
   "cell_type": "code",
   "execution_count": 201,
   "id": "1ced4388-d43a-4721-a363-2b6b92da5d6d",
   "metadata": {},
   "outputs": [],
   "source": [
    "class ZarrDataset(Dataset):\n",
    "    def __init__(self, path, target_name='nuclei', shape=(64, 64), transform=(gp.RandomLocation() + gp.SimpleAugment())):\n",
    "        self.path = path\n",
    "        self.raw = gp.ArrayKey('RAW')\n",
    "        self.gt = gp.ArrayKey('GT')\n",
    "        self.request = gp.BatchRequest()\n",
    "        self.request[self.raw] = gp.Roi((0,) * len(shape), shape)\n",
    "        self.request[self.gt] = gp.Roi((0,) * len(shape), shape)\n",
    "        self.pipelines = []\n",
    "        for i in range(len(zarr.open(path))):            \n",
    "            source = gp.ZarrSource(\n",
    "                    path,\n",
    "                    {self.raw: '{}/0'.format(i)},\n",
    "                    {self.raw: gp.ArraySpec(interpolatable=True, voxel_size=(1,) * len(shape))}\n",
    "                )\n",
    "            \n",
    "            target = gp.ZarrSource(\n",
    "                path,\n",
    "                {self.gt: '{}/labels/{}/0'.format(i, target_name)},\n",
    "                {self.gt: gp.ArraySpec(interpolatable=False, voxel_size=(1,) * len(shape))}\n",
    "            )\n",
    "            \n",
    "            combined = (source, target) + gp.MergeProvider()\n",
    "            self.pipelines.append((combined,) + transform)\n",
    "            \n",
    "        \n",
    "    def __len__(self):\n",
    "        return len(self.pipelines)\n",
    "    \n",
    "    def __getitem__(self, idx):\n",
    "        pipeline = self.pipelines[idx]\n",
    "        with gp.build(pipeline):\n",
    "            batch = pipeline.request_batch(self.request)\n",
    "        return batch[self.raw].data, batch[self.gt].data\n",
    "        "
   ]
  },
  {
   "cell_type": "code",
   "execution_count": 202,
   "id": "a6837c1d-18a0-4683-adab-4a1cbc6d7b30",
   "metadata": {},
   "outputs": [],
   "source": [
    "ds = ZarrDataset('./dataset/BBBC039.zarr/train_data/')"
   ]
  },
  {
   "cell_type": "code",
   "execution_count": 208,
   "id": "5a7bdd92-b79b-49bf-b8fe-9741f7fc325c",
   "metadata": {},
   "outputs": [],
   "source": [
    "factors = (1, 2)"
   ]
  },
  {
   "cell_type": "code",
   "execution_count": 212,
   "id": "03b167b5-db3c-477d-b2e5-76960f768773",
   "metadata": {},
   "outputs": [],
   "source": [
    "import numpy as np"
   ]
  },
  {
   "cell_type": "code",
   "execution_count": 213,
   "id": "b6769c9b-c016-4918-b4c4-acc0657ec283",
   "metadata": {},
   "outputs": [
    {
     "data": {
      "text/plain": [
       "True"
      ]
     },
     "execution_count": 213,
     "metadata": {},
     "output_type": "execute_result"
    }
   ],
   "source": [
    "np.any(factors != 1)"
   ]
  },
  {
   "cell_type": "code",
   "execution_count": 207,
   "id": "a541939e-78d4-4bb3-adae-9e4e25ac97a0",
   "metadata": {},
   "outputs": [
    {
     "data": {
      "text/plain": [
       "<matplotlib.image.AxesImage at 0x7fbeec2364f0>"
      ]
     },
     "execution_count": 207,
     "metadata": {},
     "output_type": "execute_result"
    },
    {
     "data": {
      "image/png": "[encoded data removed]",
      "text/plain": [
       "<Figure size 720x360 with 2 Axes>"
      ]
     },
     "metadata": {
      "needs_background": "light"
     },
     "output_type": "display_data"
    }
   ],
   "source": [
    "raw, gt = ds.__getitem__(10)\n",
    "\n",
    "plt.figure(figsize=(10,5))\n",
    "plt.subplot(1,2,1)\n",
    "plt.imshow(raw)\n",
    "plt.subplot(1,2,2)\n",
    "plt.imshow(gt)"
   ]
  },
  {
   "cell_type": "code",
   "execution_count": 214,
   "id": "bf69f249-1199-495f-9601-81b7a6ddec58",
   "metadata": {},
   "outputs": [
    {
     "data": {
      "text/plain": [
       "array([0, 1], dtype=uint16)"
      ]
     },
     "execution_count": 214,
     "metadata": {},
     "output_type": "execute_result"
    }
   ],
   "source": [
    "np.unique(gt)"
   ]
  },
  {
   "cell_type": "code",
   "execution_count": 215,
   "id": "59fe33bd-4564-4bd2-81ad-9773da8ada2b",
   "metadata": {},
   "outputs": [],
   "source": [
    "from skimage.io  import imread"
   ]
  },
  {
   "cell_type": "code",
   "execution_count": 216,
   "id": "d8aec040-c716-49aa-b6c1-24a2fa71f122",
   "metadata": {},
   "outputs": [],
   "source": [
    "labeling = imread('/home/tibuch/Data/broad/nuclei_U2OS/masks/IXMtest_A02_s1_w1051DAA7C-7042-435F-99F0-1E847D9B42CB.tif')"
   ]
  },
  {
   "cell_type": "code",
   "execution_count": 236,
   "id": "b3acfd8b-bb9d-4e08-ae3a-1d0c449010b6",
   "metadata": {},
   "outputs": [],
   "source": [
    "factors = (0.9, 1.4)"
   ]
  },
  {
   "cell_type": "code",
   "execution_count": 237,
   "id": "79830c63-87d9-478f-aac8-e96410c9bafd",
   "metadata": {},
   "outputs": [],
   "source": [
    "from skimage.transform import rescale"
   ]
  },
  {
   "cell_type": "code",
   "execution_count": 238,
   "id": "4bafa2da-8e19-4ee4-9f06-55ea3cbe8327",
   "metadata": {},
   "outputs": [],
   "source": [
    "# def rescale_labeling(labeling, factors):\n",
    "scaled_labeling = rescale(np.zeros_like(labeling), scale=factors)\n",
    "\n",
    "for l in filter(None, np.unique(labeling)):\n",
    "    mask = (labeling == l).astype(int)\n",
    "    \n",
    "    scaled_mask = rescale(mask, scale=factors, mode='reflect', anti_aliasing=True, preserve_range=True, order=1)\n",
    "    \n",
    "    scaled_labeling[scaled_mask > 0.5] = l"
   ]
  },
  {
   "cell_type": "code",
   "execution_count": 239,
   "id": "edccc05c-6bdc-4234-927d-967a3bb4e132",
   "metadata": {},
   "outputs": [],
   "source": [
    "from matplotlib.colors import ListedColormap"
   ]
  },
  {
   "cell_type": "code",
   "execution_count": 250,
   "id": "8d2908eb-824c-44f3-ac6a-ffd5d7aa031e",
   "metadata": {},
   "outputs": [],
   "source": [
    "colors = np.random.rand(255, 4)\n",
    "colors[0] = 1\n",
    "cmap = ListedColormap(colors)"
   ]
  },
  {
   "cell_type": "code",
   "execution_count": 251,
   "id": "b55af597-a912-4eb0-a4a8-0307da4e700c",
   "metadata": {},
   "outputs": [
    {
     "data": {
      "text/plain": [
       "<matplotlib.image.AxesImage at 0x7fbee6da9d60>"
      ]
     },
     "execution_count": 251,
     "metadata": {},
     "output_type": "execute_result"
    },
    {
     "data": {
      "image/png": "[encoded data removed]",
      "text/plain": [
       "<Figure size 720x720 with 1 Axes>"
      ]
     },
     "metadata": {
      "needs_background": "light"
     },
     "output_type": "display_data"
    }
   ],
   "source": [
    "plt.figure(figsize=(10,10))\n",
    "plt.imshow(scaled_labeling, cmap=cmap, interpolation='nearest')"
   ]
  },
  {
   "cell_type": "code",
   "execution_count": null,
   "id": "9523cf3d-d9ee-4f89-b252-1ad8c0ee6323",
   "metadata": {},
   "outputs": [],
   "source": []
  }
 ],
 "metadata": {
  "kernelspec": {
   "display_name": "Python 3 (ipykernel)",
   "language": "python",
   "name": "python3"
  },
  "language_info": {
   "codemirror_mode": {
    "name": "ipython",
    "version": 3
   },
   "file_extension": ".py",
   "mimetype": "text/x-python",
   "name": "python",
   "nbconvert_exporter": "python",
   "pygments_lexer": "ipython3",
   "version": "3.9.7"
  }
 },
 "nbformat": 4,
 "nbformat_minor": 5
}
