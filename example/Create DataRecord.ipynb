{
 "cells": [
  {
   "cell_type": "code",
   "execution_count": 1,
   "id": "b416c69a-b16f-4683-97fc-521a55596be3",
   "metadata": {},
   "outputs": [],
   "source": [
    "from faim_dl.data_record import DefaultDataRecord\n",
    "\n",
    "from glob import glob\n",
    "from os.path import join\n",
    "\n",
    "import numpy as np"
   ]
  },
  {
   "cell_type": "code",
   "execution_count": 2,
   "id": "ac35a8ff-2c47-44f8-a7f3-e24a28c5fa47",
   "metadata": {},
   "outputs": [],
   "source": [
    "data_record = DefaultDataRecord(path='./dataset/', \n",
    "                       name=\"BBBC039\",\n",
    "                                spacing=(1.2, 1.2),\n",
    "                                min_shape=(624, 836),\n",
    "                                chunks=(624, 836),\n",
    "                       tags=[\"2D\"],\n",
    "                       description=[\"Nuclei of U2OS cells in a chemical screen\"],\n",
    "                       documentation=\"https://bbbc.broadinstitute.org/BBBC039\",\n",
    "                       authors={\n",
    "                           \"name\": \"Tim-Oliver Buchholz\",\n",
    "                           \"affiliation\": \"FMI for Biomedical Research, Basel\"\n",
    "                       },\n",
    "                       cite=[\n",
    "                           {\n",
    "                               \"text\": \"Annotated high-throughput microscopy image sets for validation\",\n",
    "                               \"doi\": \"10.1038/nmeth.2083\",\n",
    "                               \"url\": \"https://www.nature.com/articles/nmeth.2083\"\n",
    "                           }\n",
    "                       ],\n",
    "                       license=\"CC0 1.0 Universal (CC0 1.0) - Public Domain Dedication \")"
   ]
  },
  {
   "cell_type": "code",
   "execution_count": 3,
   "id": "b9090aa3-dd45-4a80-85ce-df7c7bb5a503",
   "metadata": {},
   "outputs": [],
   "source": [
    "with open('/home/tibuch/Data/broad/nuclei_U2OS/metadata/metadata/training.txt', 'r') as f:\n",
    "    train_files = f.read().replace('.png', '.tif').split('\\n')\n",
    "    train_files = train_files[:-1]\n",
    "    \n",
    "with open('/home/tibuch/Data/broad/nuclei_U2OS/metadata/metadata/validation.txt', 'r') as f:\n",
    "    val_files = f.read().replace('.png', '.tif').split('\\n')\n",
    "    val_files = val_files[:-1]\n",
    "    \n",
    "with open('/home/tibuch/Data/broad/nuclei_U2OS/metadata/metadata/test.txt', 'r') as f:\n",
    "    test_files = f.read().replace('.png', '.tif').split('\\n')\n",
    "    test_files = test_files[:-1]"
   ]
  },
  {
   "cell_type": "code",
   "execution_count": 4,
   "id": "66a329ff-b77d-4007-8470-26b92f9113e6",
   "metadata": {},
   "outputs": [],
   "source": [
    "train_src_files = [join('/home/tibuch/Data/broad/nuclei_U2OS/images/', f) for f in train_files]\n",
    "train_trg_files = [join('/home/tibuch/Data/broad/nuclei_U2OS/masks/', f) for f in train_files]\n",
    "\n",
    "val_src_files = [join('/home/tibuch/Data/broad/nuclei_U2OS/images/', f) for f in val_files]\n",
    "val_trg_files = [join('/home/tibuch/Data/broad/nuclei_U2OS/masks/', f) for f in val_files]\n",
    "\n",
    "test_src_files = [join('/home/tibuch/Data/broad/nuclei_U2OS/images/', f) for f in test_files]\n",
    "test_trg_files = [join('/home/tibuch/Data/broad/nuclei_U2OS/masks/', f) for f in test_files]"
   ]
  },
  {
   "cell_type": "code",
   "execution_count": 5,
   "id": "49a0677a-d93f-44bb-87ae-3f9a7b177ec2",
   "metadata": {},
   "outputs": [],
   "source": [
    "data_record.add_train_data(\n",
    "    source_files=train_src_files[:20],\n",
    "    target_files=train_trg_files[:20],\n",
    "    axes=(\"y\", \"x\"),\n",
    "    data_spacing=(1., 1.),\n",
    "    source_dtype=np.float32,\n",
    "    target_dtype=np.int16\n",
    ")"
   ]
  },
  {
   "cell_type": "code",
   "execution_count": 6,
   "id": "03c97be4-cbb1-4de2-b627-dde6129b7b83",
   "metadata": {},
   "outputs": [],
   "source": [
    "data_record.add_train_data(\n",
    "    source_files=train_src_files[20:],\n",
    "    target_files=train_trg_files[20:],\n",
    "    axes=(\"y\", \"x\"),\n",
    "    data_spacing=(1, 1),\n",
    "    source_dtype=np.float32,\n",
    "    target_dtype=np.int16\n",
    ")"
   ]
  },
  {
   "cell_type": "code",
   "execution_count": 7,
   "id": "029a5620-61d6-4075-8bae-834955cba3ab",
   "metadata": {},
   "outputs": [],
   "source": [
    "data_record.add_val_data(\n",
    "    source_files=val_src_files,\n",
    "    target_files=val_trg_files,\n",
    "    axes=(\"y\", \"x\"),\n",
    "    data_spacing=(1, 1),\n",
    "    source_dtype=np.float32,\n",
    "    target_dtype=np.int16\n",
    ")"
   ]
  },
  {
   "cell_type": "code",
   "execution_count": 8,
   "id": "38c95e1c-daf7-4b26-a870-787bf06071ab",
   "metadata": {},
   "outputs": [],
   "source": [
    "data_record.add_test_data(\n",
    "    source_files=test_src_files,\n",
    "    target_files=test_trg_files,\n",
    "    axes=(\"y\", \"x\"),\n",
    "    data_spacing=(1, 1),\n",
    "    source_dtype=np.float32,\n",
    "    target_dtype=np.int16\n",
    ")"
   ]
  },
  {
   "cell_type": "code",
   "execution_count": 9,
   "id": "6ff5d68e-dcd7-4719-8c30-c5fe9d24af6f",
   "metadata": {},
   "outputs": [],
   "source": [
    "data_record.serialize()"
   ]
  },
  {
   "cell_type": "code",
   "execution_count": 10,
   "id": "3506cb2a-0541-4e4b-bd51-c34504f12837",
   "metadata": {},
   "outputs": [
    {
     "data": {
      "image/png": "[encoded data removed]",
      "text/plain": [
       "<Figure size 432x288 with 1 Axes>"
      ]
     },
     "metadata": {
      "needs_background": "light"
     },
     "output_type": "display_data"
    }
   ],
   "source": [
    "data_record.histograms['train_data'].plot()"
   ]
  },
  {
   "cell_type": "code",
   "execution_count": 2,
   "id": "90ed755d-7e7c-43cf-8480-672cad35cac7",
   "metadata": {},
   "outputs": [],
   "source": [
    "dr = DefaultDataRecord.deserialize('./dataset/BBBC039.zarr/BBBC039_rdf.json')"
   ]
  },
  {
   "cell_type": "code",
   "execution_count": 3,
   "id": "b6ebbd8c-38c8-49a1-9bc8-021413d346ed",
   "metadata": {},
   "outputs": [
    {
     "data": {
      "text/plain": [
       "{'train_data': {'data': './train_data', 'histogram': './train_data_hist.npz'},\n",
       " 'val_data': {'data': './val_data', 'histogram': './val_data_hist.npz'},\n",
       " 'test_data': {'data': './test_data', 'histogram': './test_data_hist.npz'}}"
      ]
     },
     "execution_count": 3,
     "metadata": {},
     "output_type": "execute_result"
    }
   ],
   "source": [
    "dr.attachments"
   ]
  },
  {
   "cell_type": "code",
   "execution_count": 4,
   "id": "c00fc1ae-cf0c-409a-b49f-e39f2280627a",
   "metadata": {},
   "outputs": [
    {
     "data": {
      "text/plain": [
       "'./dataset/BBBC039.zarr'"
      ]
     },
     "execution_count": 4,
     "metadata": {},
     "output_type": "execute_result"
    }
   ],
   "source": [
    "dr.dir"
   ]
  },
  {
   "cell_type": "code",
   "execution_count": 5,
   "id": "14d0e34a-3bad-475d-8930-29e3b3eead87",
   "metadata": {},
   "outputs": [
    {
     "data": {
      "image/png": "[encoded data removed]",
      "text/plain": [
       "<Figure size 432x288 with 1 Axes>"
      ]
     },
     "metadata": {
      "needs_background": "light"
     },
     "output_type": "display_data"
    }
   ],
   "source": [
    "dr.histograms['train_data'].plot()"
   ]
  },
  {
   "cell_type": "code",
   "execution_count": 6,
   "id": "08c53f86-f223-48b9-ab0d-0af63919cd72",
   "metadata": {},
   "outputs": [
    {
     "name": "stdout",
     "output_type": "stream",
     "text": [
      "137 1377\n"
     ]
    }
   ],
   "source": [
    "print(dr.histograms['train_data'].quantile(0.03), dr.histograms['train_data'].quantile(0.998))"
   ]
  },
  {
   "cell_type": "code",
   "execution_count": 7,
   "id": "4873f064-da4f-4fc1-b6ef-804a6eeff078",
   "metadata": {},
   "outputs": [
    {
     "data": {
      "text/plain": [
       "(1.2, 1.2)"
      ]
     },
     "execution_count": 7,
     "metadata": {},
     "output_type": "execute_result"
    }
   ],
   "source": [
    "dr.target_spacing"
   ]
  },
  {
   "cell_type": "code",
   "execution_count": 8,
   "id": "9dc289ec-0c51-401d-8b24-6084704c4617",
   "metadata": {},
   "outputs": [
    {
     "data": {
      "text/plain": [
       "(624, 836)"
      ]
     },
     "execution_count": 8,
     "metadata": {},
     "output_type": "execute_result"
    }
   ],
   "source": [
    "dr.min_shape"
   ]
  },
  {
   "cell_type": "code",
   "execution_count": 9,
   "id": "129d59f5-bc3c-410c-9502-5e7009fd798a",
   "metadata": {},
   "outputs": [
    {
     "data": {
      "text/plain": [
       "(624, 836)"
      ]
     },
     "execution_count": 9,
     "metadata": {},
     "output_type": "execute_result"
    }
   ],
   "source": [
    "dr.chunks"
   ]
  },
  {
   "cell_type": "code",
   "execution_count": null,
   "id": "5d948999-0165-4b16-a744-0ff2a03e81cb",
   "metadata": {},
   "outputs": [],
   "source": []
  }
 ],
 "metadata": {
  "kernelspec": {
   "display_name": "Python 3 (ipykernel)",
   "language": "python",
   "name": "python3"
  },
  "language_info": {
   "codemirror_mode": {
    "name": "ipython",
    "version": 3
   },
   "file_extension": ".py",
   "mimetype": "text/x-python",
   "name": "python",
   "nbconvert_exporter": "python",
   "pygments_lexer": "ipython3",
   "version": "3.9.7"
  }
 },
 "nbformat": 4,
 "nbformat_minor": 5
}
